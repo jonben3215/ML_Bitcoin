{
 "cells": [
  {
   "cell_type": "code",
   "execution_count": null,
   "id": "547f43c4-9103-4648-94cb-c8c2ebcee20c",
   "metadata": {},
   "outputs": [],
   "source": [
    "import pandas as pd\n",
    "data = pd.read_csv('/home/jovyan/ML_Bitcoin/bitcoin_2017_to_2023.csv')"
   ]
  },
  {
   "cell_type": "code",
   "execution_count": null,
   "id": "1388a76d-7f7f-4cde-8b44-4a216c2c3edd",
   "metadata": {},
   "outputs": [],
   "source": [
    "data.head()"
   ]
  },
  {
   "cell_type": "code",
   "execution_count": null,
   "id": "b444fd5d-beed-4075-9397-92b6373836b8",
   "metadata": {},
   "outputs": [],
   "source": [
    "data.shape"
   ]
  },
  {
   "cell_type": "code",
   "execution_count": null,
   "id": "e929870d-3bfd-4ebf-bc33-8c9a8ba3775b",
   "metadata": {},
   "outputs": [],
   "source": [
    "print(data.columns)"
   ]
  },
  {
   "cell_type": "code",
   "execution_count": null,
   "id": "c91de0c2-d424-4811-91d7-b7d28d25200b",
   "metadata": {},
   "outputs": [],
   "source": [
    "data.info()"
   ]
  },
  {
   "cell_type": "code",
   "execution_count": null,
   "id": "4e04e4c5-e904-474d-a1fb-56248a31a7f5",
   "metadata": {},
   "outputs": [],
   "source": [
    "data.describe()"
   ]
  },
  {
   "cell_type": "code",
   "execution_count": null,
   "id": "813ca1ed-c209-45fc-9ece-04d82d5af26d",
   "metadata": {},
   "outputs": [],
   "source": [
    "minOpen = data['open'].min()\n",
    "maxOpen = data['open'].max()\n",
    "openRange = maxOpen - minOpen\n",
    "print(\"Open Range: \", openRange)\n",
    "minHigh = data['high'].min()\n",
    "maxHigh = data['high'].max()\n",
    "highRange = maxHigh - minHigh\n",
    "print(\"High Range: \", highRange)\n",
    "minLow = data['low'].min()\n",
    "maxLow = data['low'].max()\n",
    "LowRange = maxLow - minLow\n",
    "print(\"Low Range: \", LowRange)\n",
    "minClose = data['close'].min()\n",
    "maxClose = data['close'].max()\n",
    "closeRange = maxClose - minClose\n",
    "print(\"Close Range: \", closeRange)\n",
    "minVol = data['volume'].min()\n",
    "maxVol = data['volume'].max()\n",
    "volumeRange = maxVol - minVol\n",
    "print(\"Volume Range: \", volumeRange)\n",
    "minqav = data['quote_asset_volume'].min()\n",
    "maxqav = data['quote_asset_volume'].max()\n",
    "qavRange = maxqav - minqav\n",
    "print(\"quote_asset_volume Range: \", qavRange)\n",
    "minNOT = data['number_of_trades'].min()\n",
    "maxNOT = data['number_of_trades'].max()\n",
    "NOTRange = maxNOT - minNOT\n",
    "print(\"number_of_trades Range: \", NOTRange)\n",
    "minTBBAV = data['taker_buy_base_asset_volume'].min()\n",
    "maxTBBAV = data['taker_buy_base_asset_volume'].max()\n",
    "TBBAVRange = maxTBBAV - minTBBAV\n",
    "print(\"taker_buy_base_asset_volume Range: \", TBBAVRange)\n",
    "minTBQAV = data['taker_buy_quote_asset_volume'].min()\n",
    "maxTBQAV = data['taker_buy_quote_asset_volume'].max()\n",
    "TBQAVRange = maxTBQAV - minTBQAV\n",
    "print(\"taker_buy_quote_asset_volume Range: \", TBQAVRange)"
   ]
  }
 ],
 "metadata": {
  "kernelspec": {
   "display_name": "BitcoinEnv",
   "language": "python",
   "name": "bitcoinenv"
  },
  "language_info": {
   "codemirror_mode": {
    "name": "ipython",
    "version": 3
   },
   "file_extension": ".py",
   "mimetype": "text/x-python",
   "name": "python",
   "nbconvert_exporter": "python",
   "pygments_lexer": "ipython3",
   "version": "3.10.8"
  }
 },
 "nbformat": 4,
 "nbformat_minor": 5
}
